{
 "cells": [
  {
   "cell_type": "code",
   "execution_count": 1,
   "metadata": {},
   "outputs": [],
   "source": [
    "import pandas as pd\n",
    "import numpy as np\n",
    "import matplotlib.pyplot as plt\n",
    "import seaborn as sns"
   ]
  },
  {
   "cell_type": "code",
   "execution_count": 5,
   "metadata": {},
   "outputs": [],
   "source": [
    "df_original = pd.read_csv('bershire_1_Hoja1.csv')\n"
   ]
  },
  {
   "cell_type": "code",
   "execution_count": 6,
   "metadata": {},
   "outputs": [],
   "source": [
    "df_copy = df_original.fillna(0)"
   ]
  },
  {
   "cell_type": "code",
   "execution_count": 7,
   "metadata": {},
   "outputs": [],
   "source": [
    "df_copy['Year'] = df_copy['Unnamed: 0'].str[-4:]"
   ]
  },
  {
   "cell_type": "code",
   "execution_count": 8,
   "metadata": {},
   "outputs": [],
   "source": [
    "del df_copy['Unnamed: 0']"
   ]
  },
  {
   "cell_type": "code",
   "execution_count": 9,
   "metadata": {},
   "outputs": [],
   "source": [
    "df_prueba_for_year = pd.DataFrame()\n",
    "\n",
    "for row in range(0,df_copy.shape[0]):\n",
    "    temporan_df = pd.DataFrame()\n",
    "    temporan_df = df_copy.iloc[row:row+1,:-1].transpose().reset_index()\n",
    "    temporan_df['Year'] = df_copy.iloc[row]['Year']\n",
    "    temporan_df.rename(columns={'index':'Company', row:'Amount'}, inplace=True)\n",
    "    df_prueba_for_year = pd.concat([df_prueba_for_year, temporan_df], ignore_index= True)\n",
    "    temporan_df = pd.DataFrame()"
   ]
  },
  {
   "cell_type": "code",
   "execution_count": 10,
   "metadata": {},
   "outputs": [],
   "source": [
    "df_prueba_for_year.to_csv('list_tablue_stock.csv')"
   ]
  },
  {
   "cell_type": "code",
   "execution_count": 11,
   "metadata": {},
   "outputs": [],
   "source": [
    "df_copy['Total'] = df_copy.iloc[:,:-1].sum(axis=1)"
   ]
  },
  {
   "cell_type": "code",
   "execution_count": 12,
   "metadata": {},
   "outputs": [
    {
     "data": {
      "text/html": [
       "<div>\n",
       "<style scoped>\n",
       "    .dataframe tbody tr th:only-of-type {\n",
       "        vertical-align: middle;\n",
       "    }\n",
       "\n",
       "    .dataframe tbody tr th {\n",
       "        vertical-align: top;\n",
       "    }\n",
       "\n",
       "    .dataframe thead th {\n",
       "        text-align: right;\n",
       "    }\n",
       "</style>\n",
       "<table border=\"1\" class=\"dataframe\">\n",
       "  <thead>\n",
       "    <tr style=\"text-align: right;\">\n",
       "      <th></th>\n",
       "      <th>Apple</th>\n",
       "      <th>HP</th>\n",
       "      <th>Activision Blizzard</th>\n",
       "      <th>Occidental Petroleum</th>\n",
       "      <th>Bank of America</th>\n",
       "      <th>Coca-Cola</th>\n",
       "      <th>Others</th>\n",
       "      <th>American Express</th>\n",
       "      <th>Kraft Foods</th>\n",
       "      <th>Verizon</th>\n",
       "      <th>...</th>\n",
       "      <th>AT&amp;T</th>\n",
       "      <th>Delta Airlines</th>\n",
       "      <th>Southwest Airlines</th>\n",
       "      <th>United Continental Holdings</th>\n",
       "      <th>Verisign</th>\n",
       "      <th>ITOCHU</th>\n",
       "      <th>Mitsubishi</th>\n",
       "      <th>Mitsui &amp; Co.</th>\n",
       "      <th>Year</th>\n",
       "      <th>Total</th>\n",
       "    </tr>\n",
       "  </thead>\n",
       "  <tbody>\n",
       "    <tr>\n",
       "      <th>0</th>\n",
       "      <td>0.0</td>\n",
       "      <td>0.0</td>\n",
       "      <td>0.0</td>\n",
       "      <td>0</td>\n",
       "      <td>0.0</td>\n",
       "      <td>5150.0</td>\n",
       "      <td>2458.2</td>\n",
       "      <td>818.9</td>\n",
       "      <td>0.0</td>\n",
       "      <td>0.0</td>\n",
       "      <td>...</td>\n",
       "      <td>0</td>\n",
       "      <td>0</td>\n",
       "      <td>0</td>\n",
       "      <td>0</td>\n",
       "      <td>0.0</td>\n",
       "      <td>0</td>\n",
       "      <td>0</td>\n",
       "      <td>0</td>\n",
       "      <td>1994</td>\n",
       "      <td>15236.5</td>\n",
       "    </tr>\n",
       "    <tr>\n",
       "      <th>1</th>\n",
       "      <td>0.0</td>\n",
       "      <td>0.0</td>\n",
       "      <td>0.0</td>\n",
       "      <td>0</td>\n",
       "      <td>0.0</td>\n",
       "      <td>7425.0</td>\n",
       "      <td>2655.4</td>\n",
       "      <td>2046.3</td>\n",
       "      <td>0.0</td>\n",
       "      <td>0.0</td>\n",
       "      <td>...</td>\n",
       "      <td>0</td>\n",
       "      <td>0</td>\n",
       "      <td>0</td>\n",
       "      <td>0</td>\n",
       "      <td>0.0</td>\n",
       "      <td>0</td>\n",
       "      <td>0</td>\n",
       "      <td>0</td>\n",
       "      <td>1995</td>\n",
       "      <td>22000.3</td>\n",
       "    </tr>\n",
       "    <tr>\n",
       "      <th>2</th>\n",
       "      <td>0.0</td>\n",
       "      <td>0.0</td>\n",
       "      <td>0.0</td>\n",
       "      <td>0</td>\n",
       "      <td>0.0</td>\n",
       "      <td>10499.7</td>\n",
       "      <td>3862.1</td>\n",
       "      <td>2731.8</td>\n",
       "      <td>0.0</td>\n",
       "      <td>0.0</td>\n",
       "      <td>...</td>\n",
       "      <td>0</td>\n",
       "      <td>0</td>\n",
       "      <td>0</td>\n",
       "      <td>0</td>\n",
       "      <td>0.0</td>\n",
       "      <td>0</td>\n",
       "      <td>0</td>\n",
       "      <td>0</td>\n",
       "      <td>1996</td>\n",
       "      <td>27551.6</td>\n",
       "    </tr>\n",
       "    <tr>\n",
       "      <th>3</th>\n",
       "      <td>0.0</td>\n",
       "      <td>0.0</td>\n",
       "      <td>0.0</td>\n",
       "      <td>0</td>\n",
       "      <td>0.0</td>\n",
       "      <td>13305.0</td>\n",
       "      <td>6526.0</td>\n",
       "      <td>4315.0</td>\n",
       "      <td>0.0</td>\n",
       "      <td>0.0</td>\n",
       "      <td>...</td>\n",
       "      <td>0</td>\n",
       "      <td>0</td>\n",
       "      <td>0</td>\n",
       "      <td>0</td>\n",
       "      <td>0.0</td>\n",
       "      <td>0</td>\n",
       "      <td>0</td>\n",
       "      <td>0</td>\n",
       "      <td>1997</td>\n",
       "      <td>35941.0</td>\n",
       "    </tr>\n",
       "    <tr>\n",
       "      <th>4</th>\n",
       "      <td>0.0</td>\n",
       "      <td>0.0</td>\n",
       "      <td>0.0</td>\n",
       "      <td>0</td>\n",
       "      <td>0.0</td>\n",
       "      <td>13368.0</td>\n",
       "      <td>8629.0</td>\n",
       "      <td>5067.0</td>\n",
       "      <td>0.0</td>\n",
       "      <td>0.0</td>\n",
       "      <td>...</td>\n",
       "      <td>0</td>\n",
       "      <td>0</td>\n",
       "      <td>0</td>\n",
       "      <td>0</td>\n",
       "      <td>0.0</td>\n",
       "      <td>0</td>\n",
       "      <td>0</td>\n",
       "      <td>0</td>\n",
       "      <td>1998</td>\n",
       "      <td>39494.0</td>\n",
       "    </tr>\n",
       "  </tbody>\n",
       "</table>\n",
       "<p>5 rows × 62 columns</p>\n",
       "</div>"
      ],
      "text/plain": [
       "   Apple   HP  Activision Blizzard  Occidental Petroleum  Bank of America  \\\n",
       "0    0.0  0.0                  0.0                     0              0.0   \n",
       "1    0.0  0.0                  0.0                     0              0.0   \n",
       "2    0.0  0.0                  0.0                     0              0.0   \n",
       "3    0.0  0.0                  0.0                     0              0.0   \n",
       "4    0.0  0.0                  0.0                     0              0.0   \n",
       "\n",
       "   Coca-Cola  Others  American Express  Kraft Foods  Verizon  ...  AT&T  \\\n",
       "0     5150.0  2458.2             818.9          0.0      0.0  ...     0   \n",
       "1     7425.0  2655.4            2046.3          0.0      0.0  ...     0   \n",
       "2    10499.7  3862.1            2731.8          0.0      0.0  ...     0   \n",
       "3    13305.0  6526.0            4315.0          0.0      0.0  ...     0   \n",
       "4    13368.0  8629.0            5067.0          0.0      0.0  ...     0   \n",
       "\n",
       "   Delta Airlines  Southwest Airlines  United Continental Holdings  Verisign  \\\n",
       "0               0                   0                            0       0.0   \n",
       "1               0                   0                            0       0.0   \n",
       "2               0                   0                            0       0.0   \n",
       "3               0                   0                            0       0.0   \n",
       "4               0                   0                            0       0.0   \n",
       "\n",
       "   ITOCHU  Mitsubishi  Mitsui & Co.  Year    Total  \n",
       "0       0           0             0  1994  15236.5  \n",
       "1       0           0             0  1995  22000.3  \n",
       "2       0           0             0  1996  27551.6  \n",
       "3       0           0             0  1997  35941.0  \n",
       "4       0           0             0  1998  39494.0  \n",
       "\n",
       "[5 rows x 62 columns]"
      ]
     },
     "execution_count": 12,
     "metadata": {},
     "output_type": "execute_result"
    }
   ],
   "source": [
    "prueba_2 = df_copy.copy()\n",
    "prueba_2.head()"
   ]
  },
  {
   "cell_type": "code",
   "execution_count": 13,
   "metadata": {},
   "outputs": [],
   "source": [
    "df_porcent = pd.DataFrame()\n",
    "for row in range(len(prueba_2)):\n",
    "    temporal = pd.DataFrame()\n",
    "    temporal = prueba_2.iloc[row:(row+1), :-2] / prueba_2.loc[row]['Total']\n",
    "    temporal['Year'] = prueba_2.loc[row]['Year']\n",
    "    df_porcent = pd.concat([df_porcent, temporal], ignore_index=True)\n",
    "    temporal = pd.DataFrame()"
   ]
  },
  {
   "cell_type": "code",
   "execution_count": 14,
   "metadata": {},
   "outputs": [],
   "source": [
    "df_renew = pd.DataFrame()\n",
    "for row in range(len(df_porcent)):\n",
    "    temporal_df = pd.DataFrame()\n",
    "    temporal_df = df_porcent.iloc[row:row+1,:-1].transpose().reset_index()\n",
    "    temporal_df.rename(columns={'index': 'Company', row:'Participation'}, inplace=True)\n",
    "    temporal_df['Year'] = df_porcent.loc[row]['Year']\n",
    "\n",
    "    df_renew = pd.concat([df_renew, temporal_df], ignore_index=True)"
   ]
  },
  {
   "cell_type": "code",
   "execution_count": 15,
   "metadata": {},
   "outputs": [],
   "source": [
    "df_renew.to_csv('stok_percent.csv')"
   ]
  },
  {
   "cell_type": "code",
   "execution_count": 16,
   "metadata": {},
   "outputs": [
    {
     "data": {
      "text/html": [
       "<div>\n",
       "<style scoped>\n",
       "    .dataframe tbody tr th:only-of-type {\n",
       "        vertical-align: middle;\n",
       "    }\n",
       "\n",
       "    .dataframe tbody tr th {\n",
       "        vertical-align: top;\n",
       "    }\n",
       "\n",
       "    .dataframe thead th {\n",
       "        text-align: right;\n",
       "    }\n",
       "</style>\n",
       "<table border=\"1\" class=\"dataframe\">\n",
       "  <thead>\n",
       "    <tr style=\"text-align: right;\">\n",
       "      <th></th>\n",
       "      <th>Company</th>\n",
       "      <th>Participation</th>\n",
       "      <th>Year</th>\n",
       "    </tr>\n",
       "  </thead>\n",
       "  <tbody>\n",
       "    <tr>\n",
       "      <th>0</th>\n",
       "      <td>Apple</td>\n",
       "      <td>0.0</td>\n",
       "      <td>1994</td>\n",
       "    </tr>\n",
       "    <tr>\n",
       "      <th>1</th>\n",
       "      <td>HP</td>\n",
       "      <td>0.0</td>\n",
       "      <td>1994</td>\n",
       "    </tr>\n",
       "    <tr>\n",
       "      <th>2</th>\n",
       "      <td>Activision Blizzard</td>\n",
       "      <td>0.0</td>\n",
       "      <td>1994</td>\n",
       "    </tr>\n",
       "    <tr>\n",
       "      <th>3</th>\n",
       "      <td>Occidental Petroleum</td>\n",
       "      <td>0.0</td>\n",
       "      <td>1994</td>\n",
       "    </tr>\n",
       "    <tr>\n",
       "      <th>4</th>\n",
       "      <td>Bank of America</td>\n",
       "      <td>0.0</td>\n",
       "      <td>1994</td>\n",
       "    </tr>\n",
       "  </tbody>\n",
       "</table>\n",
       "</div>"
      ],
      "text/plain": [
       "                Company  Participation  Year\n",
       "0                 Apple            0.0  1994\n",
       "1                    HP            0.0  1994\n",
       "2   Activision Blizzard            0.0  1994\n",
       "3  Occidental Petroleum            0.0  1994\n",
       "4       Bank of America            0.0  1994"
      ]
     },
     "execution_count": 16,
     "metadata": {},
     "output_type": "execute_result"
    }
   ],
   "source": [
    "df_renew.head()"
   ]
  },
  {
   "cell_type": "code",
   "execution_count": 17,
   "metadata": {},
   "outputs": [],
   "source": [
    "df_prueba_for_year['Participation'] = df_renew['Participation']"
   ]
  },
  {
   "cell_type": "code",
   "execution_count": 18,
   "metadata": {},
   "outputs": [],
   "source": [
    "df_prueba_for_year.to_csv('data_percent.csv')"
   ]
  },
  {
   "cell_type": "code",
   "execution_count": 19,
   "metadata": {},
   "outputs": [
    {
     "data": {
      "text/html": [
       "<div>\n",
       "<style scoped>\n",
       "    .dataframe tbody tr th:only-of-type {\n",
       "        vertical-align: middle;\n",
       "    }\n",
       "\n",
       "    .dataframe tbody tr th {\n",
       "        vertical-align: top;\n",
       "    }\n",
       "\n",
       "    .dataframe thead th {\n",
       "        text-align: right;\n",
       "    }\n",
       "</style>\n",
       "<table border=\"1\" class=\"dataframe\">\n",
       "  <thead>\n",
       "    <tr style=\"text-align: right;\">\n",
       "      <th></th>\n",
       "      <th>Apple</th>\n",
       "      <th>HP</th>\n",
       "      <th>Activision Blizzard</th>\n",
       "      <th>Occidental Petroleum</th>\n",
       "      <th>Bank of America</th>\n",
       "      <th>Coca-Cola</th>\n",
       "      <th>Others</th>\n",
       "      <th>American Express</th>\n",
       "      <th>Kraft Foods</th>\n",
       "      <th>Verizon</th>\n",
       "      <th>...</th>\n",
       "      <th>Goldman Sachs</th>\n",
       "      <th>Deere</th>\n",
       "      <th>AT&amp;T</th>\n",
       "      <th>Delta Airlines</th>\n",
       "      <th>Southwest Airlines</th>\n",
       "      <th>United Continental Holdings</th>\n",
       "      <th>Verisign</th>\n",
       "      <th>ITOCHU</th>\n",
       "      <th>Mitsubishi</th>\n",
       "      <th>Mitsui &amp; Co.</th>\n",
       "    </tr>\n",
       "  </thead>\n",
       "  <tbody>\n",
       "    <tr>\n",
       "      <th>0</th>\n",
       "      <td>0.0</td>\n",
       "      <td>0.0</td>\n",
       "      <td>0.0</td>\n",
       "      <td>0.0</td>\n",
       "      <td>0.0</td>\n",
       "      <td>0.338004</td>\n",
       "      <td>0.161336</td>\n",
       "      <td>0.053746</td>\n",
       "      <td>0.0</td>\n",
       "      <td>0.0</td>\n",
       "      <td>...</td>\n",
       "      <td>0.0</td>\n",
       "      <td>0.0</td>\n",
       "      <td>0.0</td>\n",
       "      <td>0.0</td>\n",
       "      <td>0.0</td>\n",
       "      <td>0.0</td>\n",
       "      <td>0.0</td>\n",
       "      <td>0.0</td>\n",
       "      <td>0.0</td>\n",
       "      <td>0.0</td>\n",
       "    </tr>\n",
       "  </tbody>\n",
       "</table>\n",
       "<p>1 rows × 60 columns</p>\n",
       "</div>"
      ],
      "text/plain": [
       "   Apple   HP  Activision Blizzard  Occidental Petroleum  Bank of America  \\\n",
       "0    0.0  0.0                  0.0                   0.0              0.0   \n",
       "\n",
       "   Coca-Cola    Others  American Express  Kraft Foods  Verizon  ...  \\\n",
       "0   0.338004  0.161336          0.053746          0.0      0.0  ...   \n",
       "\n",
       "   Goldman Sachs  Deere  AT&T  Delta Airlines  Southwest Airlines  \\\n",
       "0            0.0    0.0   0.0             0.0                 0.0   \n",
       "\n",
       "   United Continental Holdings  Verisign  ITOCHU  Mitsubishi  Mitsui & Co.  \n",
       "0                          0.0       0.0     0.0         0.0           0.0  \n",
       "\n",
       "[1 rows x 60 columns]"
      ]
     },
     "execution_count": 19,
     "metadata": {},
     "output_type": "execute_result"
    }
   ],
   "source": [
    "prueba_2.iloc[0:1,:-2] / prueba_2.loc[0]['Total']"
   ]
  },
  {
   "cell_type": "code",
   "execution_count": 20,
   "metadata": {},
   "outputs": [
    {
     "data": {
      "text/plain": [
       "range(0, 29)"
      ]
     },
     "execution_count": 20,
     "metadata": {},
     "output_type": "execute_result"
    }
   ],
   "source": [
    "range(len(prueba_2))"
   ]
  },
  {
   "cell_type": "code",
   "execution_count": null,
   "metadata": {},
   "outputs": [],
   "source": []
  }
 ],
 "metadata": {
  "kernelspec": {
   "display_name": "Python 3.9.13 ('matPlot')",
   "language": "python",
   "name": "python3"
  },
  "language_info": {
   "codemirror_mode": {
    "name": "ipython",
    "version": 3
   },
   "file_extension": ".py",
   "mimetype": "text/x-python",
   "name": "python",
   "nbconvert_exporter": "python",
   "pygments_lexer": "ipython3",
   "version": "3.9.13"
  },
  "orig_nbformat": 4,
  "vscode": {
   "interpreter": {
    "hash": "f31b080774bb32cde44fe67de1742405f11e61ebe26d0f4783cf70bf7b2ea1db"
   }
  }
 },
 "nbformat": 4,
 "nbformat_minor": 2
}
